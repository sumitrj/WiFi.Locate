{
 "cells": [
  {
   "cell_type": "markdown",
   "metadata": {},
   "source": [
    "# Getting Dependencies"
   ]
  },
  {
   "cell_type": "code",
   "execution_count": 2,
   "metadata": {},
   "outputs": [
    {
     "name": "stdout",
     "output_type": "stream",
     "text": [
      "Wall time: 0 ns\n"
     ]
    }
   ],
   "source": [
    "%%time\n",
    "import matplotlib.pyplot as plt\n",
    "import numpy as np\n",
    "import pandas as pd\n",
    "import numpy as np\n",
    "from sklearn.cross_validation import train_test_split\n",
    "from sklearn.tree import DecisionTreeRegressor\n",
    "from sklearn.metrics import accuracy_score\n",
    "from sklearn import tree"
   ]
  },
  {
   "cell_type": "markdown",
   "metadata": {},
   "source": [
    "# Reading and Viewing Data"
   ]
  },
  {
   "cell_type": "code",
   "execution_count": 3,
   "metadata": {},
   "outputs": [
    {
     "data": {
      "text/html": [
       "<div>\n",
       "<style scoped>\n",
       "    .dataframe tbody tr th:only-of-type {\n",
       "        vertical-align: middle;\n",
       "    }\n",
       "\n",
       "    .dataframe tbody tr th {\n",
       "        vertical-align: top;\n",
       "    }\n",
       "\n",
       "    .dataframe thead th {\n",
       "        text-align: right;\n",
       "    }\n",
       "</style>\n",
       "<table border=\"1\" class=\"dataframe\">\n",
       "  <thead>\n",
       "    <tr style=\"text-align: right;\">\n",
       "      <th></th>\n",
       "      <th>Distance</th>\n",
       "      <th>RSSI Value</th>\n",
       "    </tr>\n",
       "  </thead>\n",
       "  <tbody>\n",
       "    <tr>\n",
       "      <th>0</th>\n",
       "      <td>0.1</td>\n",
       "      <td>-24.09</td>\n",
       "    </tr>\n",
       "    <tr>\n",
       "      <th>1</th>\n",
       "      <td>0.2</td>\n",
       "      <td>-27.55</td>\n",
       "    </tr>\n",
       "    <tr>\n",
       "      <th>2</th>\n",
       "      <td>0.3</td>\n",
       "      <td>-31.73</td>\n",
       "    </tr>\n",
       "    <tr>\n",
       "      <th>3</th>\n",
       "      <td>0.4</td>\n",
       "      <td>-35.27</td>\n",
       "    </tr>\n",
       "    <tr>\n",
       "      <th>4</th>\n",
       "      <td>0.5</td>\n",
       "      <td>-33.91</td>\n",
       "    </tr>\n",
       "  </tbody>\n",
       "</table>\n",
       "</div>"
      ],
      "text/plain": [
       "   Distance  RSSI Value\n",
       "0       0.1      -24.09\n",
       "1       0.2      -27.55\n",
       "2       0.3      -31.73\n",
       "3       0.4      -35.27\n",
       "4       0.5      -33.91"
      ]
     },
     "execution_count": 3,
     "metadata": {},
     "output_type": "execute_result"
    }
   ],
   "source": [
    "RSSI_to_Distance = pd.read_excel('RSSItoDistance.xlsx')\n",
    "d1 = d = np.array(RSSI_to_Distance['Distance'])\n",
    "r1 = r = np.array(RSSI_to_Distance['RSSI Value'])\n",
    "d,r = np.array(d).reshape(-1,1),np.array(r).reshape(-1,1)\n",
    "RSSI_to_Distance.head()\n"
   ]
  },
  {
   "cell_type": "markdown",
   "metadata": {},
   "source": [
    "# Plotting Distance against RSSI values"
   ]
  },
  {
   "cell_type": "code",
   "execution_count": 4,
   "metadata": {},
   "outputs": [
    {
     "data": {
      "text/plain": [
       "Text(0.5,1,'Distance Vs RSSI Values')"
      ]
     },
     "execution_count": 4,
     "metadata": {},
     "output_type": "execute_result"
    },
    {
     "data": {
      "image/png": "[encoded data removed]",
      "text/plain": [
       "<Figure size 432x288 with 1 Axes>"
      ]
     },
     "metadata": {
      "needs_background": "light"
     },
     "output_type": "display_data"
    }
   ],
   "source": [
    "plt.scatter(r,d)\n",
    "plt.xlabel('RSSI Values (IEEE 802.11) : Signal Strength')\n",
    "plt.ylabel('Distance (ft)')\n",
    "plt.title('Distance Vs RSSI Values')"
   ]
  },
  {
   "cell_type": "markdown",
   "metadata": {},
   "source": [
    "# Preprocessing the values"
   ]
  },
  {
   "cell_type": "code",
   "execution_count": 5,
   "metadata": {},
   "outputs": [
    {
     "name": "stdout",
     "output_type": "stream",
     "text": [
      "Preprocessing Parametes: \n",
      "s1 =  [25.05]\n",
      "s2 =  [12.92284798]\n",
      "p =  0.01\n"
     ]
    },
    {
     "data": {
      "text/plain": [
       "Text(0.5,1,'Transformed Signal Strength Vs Transformed Distance')"
      ]
     },
     "execution_count": 5,
     "metadata": {},
     "output_type": "execute_result"
    },
    {
     "data": {
      "image/png": "[encoded data removed]",
      "text/plain": [
       "<Figure size 432x288 with 1 Axes>"
      ]
     },
     "metadata": {
      "needs_background": "light"
     },
     "output_type": "display_data"
    }
   ],
   "source": [
    "r = -r/10\n",
    "d+=0.05\n",
    "s1 = max(d)\n",
    "d = (s1/d)**0.5\n",
    "s2 = max(d)\n",
    "p = 0.01\n",
    "d = s2 - d + p\n",
    "\n",
    "print('Preprocessing Parametes: ')\n",
    "print('s1 = ',s1)\n",
    "print('s2 = ',s2)\n",
    "print('p = ',p)\n",
    "\n",
    "plt.scatter(r,d)\n",
    "plt.xlabel('Transformed Values of RSSI Values (IEEE 802.11) : Signal Strength')\n",
    "plt.ylabel('Transformed Values of Distance')\n",
    "plt.title('Transformed Signal Strength Vs Transformed Distance')"
   ]
  },
  {
   "cell_type": "code",
   "execution_count": 6,
   "metadata": {},
   "outputs": [],
   "source": [
    "X_train, X_test, y_train, y_test = train_test_split(r,d, random_state = 0) "
   ]
  },
  {
   "cell_type": "code",
   "execution_count": 7,
   "metadata": {},
   "outputs": [],
   "source": [
    "Error_Percent = {}\n",
    "trained_models = {}"
   ]
  },
  {
   "cell_type": "code",
   "execution_count": 8,
   "metadata": {},
   "outputs": [],
   "source": [
    "def error(x,y):\n",
    "    x = np.array(x)\n",
    "    y = np.array(y)    \n",
    "    return np.mean((x-y)**2)**0.5*100/np.mean(x)"
   ]
  },
  {
   "cell_type": "markdown",
   "metadata": {},
   "source": [
    "# Prediction using Information Entropy based Algorithms"
   ]
  },
  {
   "cell_type": "code",
   "execution_count": 9,
   "metadata": {},
   "outputs": [
    {
     "name": "stdout",
     "output_type": "stream",
     "text": [
      "Error =  28.371746127204563\n"
     ]
    },
    {
     "data": {
      "image/png": "[encoded data removed]",
      "text/plain": [
       "<Figure size 432x288 with 1 Axes>"
      ]
     },
     "metadata": {
      "needs_background": "light"
     },
     "output_type": "display_data"
    }
   ],
   "source": [
    "regr = DecisionTreeRegressor(max_depth=10)\n",
    "regr.fit(X_train, y_train)\n",
    "\n",
    "y_pred = regr.predict(X_test)\n",
    "Error_Percent['Information Entropy based ML algorithms'] = error(y_test,y_pred)\n",
    "y_predf = regr.predict(r)\n",
    "\n",
    "print('Error = ',error(y_test,y_pred))\n",
    "\n",
    "plt.scatter(r,d,c ='r')\n",
    "plt.plot(r,y_predf)\n",
    "plt.scatter(r,y_predf,c='g')\n",
    "trained_models['Information Entropy based ML algorithms'] = regr"
   ]
  },
  {
   "cell_type": "markdown",
   "metadata": {},
   "source": [
    "# Using Polynomial Regression of various degrees"
   ]
  },
  {
   "cell_type": "code",
   "execution_count": 10,
   "metadata": {},
   "outputs": [
    {
     "name": "stdout",
     "output_type": "stream",
     "text": [
      " Error Percentage:  3.6358161084526 \n",
      " Degree of Polynomial:  2\n"
     ]
    },
    {
     "data": {
      "image/png": "[encoded data removed]",
      "text/plain": [
       "<Figure size 432x288 with 1 Axes>"
      ]
     },
     "metadata": {
      "needs_background": "light"
     },
     "output_type": "display_data"
    }
   ],
   "source": [
    "from sklearn.preprocessing import PolynomialFeatures\n",
    "\n",
    "models = []\n",
    "# Test upto 10 degree polynomial\n",
    "\n",
    "for j in range(12):\n",
    "    poly = PolynomialFeatures(degree=j)\n",
    "    poly_x = poly.fit_transform(X_train)\n",
    "    models.append(poly_x)\n",
    "\n",
    "from sklearn.linear_model import LinearRegression\n",
    "\n",
    "regressors = []\n",
    "y_preds = []\n",
    "mses = []\n",
    "\n",
    "for model in models:\n",
    "    regressor = LinearRegression()\n",
    "    regressor.fit(model,y_train)\n",
    "    regressors.append(regressor)\n",
    "\n",
    "j=0\n",
    "min_mse = -1\n",
    "minj = -1\n",
    "\n",
    "for regressor in regressors:\n",
    "    poly = PolynomialFeatures(degree=j)\n",
    "    poly_x = poly.fit_transform(X_test)    \n",
    "    y_pred  = regressor.predict(poly_x)\n",
    "    mse = error(y_test,y_pred)\n",
    "    \n",
    "    if(j==0):\n",
    "        min_mse = mse\n",
    "        minj = 0\n",
    "    elif(min_mse>mse):\n",
    "        min_mse = mse\n",
    "        minj = j\n",
    "    j+=1\n",
    "\n",
    "\n",
    "print(' Error Percentage: ', min_mse, '\\n' , 'Degree of Polynomial: ',minj)\n",
    "Error_Percent['Polynomial_Regression'] = min_mse\n",
    "\n",
    "#Predicted Array\n",
    "poly = PolynomialFeatures(degree=minj)\n",
    "poly_x = poly.fit_transform(r)    \n",
    "y_pred  = regressors[minj].predict(poly_x)\n",
    "\n",
    "plt.xlabel('Transformed RSSI IEEE 802.11 ')\n",
    "plt.ylabel('Transformed Distance')\n",
    "trained_models['Polynomial_Regression'] = regressors[minj]\n",
    "\n",
    "#Scatter Plot of True Values\n",
    "plt.scatter(r,d,c ='r')\n",
    "\n",
    "#Continuous Plot of True Values\n",
    "plt.plot(r,y_predf,c='y')\n",
    "plt.scatter(r,y_predf,c='g')\n",
    "\n",
    "#Final Function\n",
    "Model = regressors[minj]"
   ]
  },
  {
   "cell_type": "markdown",
   "metadata": {},
   "source": [
    "# Invert the Preprocessing transformations & Predict Distance based on RSSI"
   ]
  },
  {
   "cell_type": "code",
   "execution_count": 11,
   "metadata": {},
   "outputs": [],
   "source": [
    "def predict(k):\n",
    "    k = -k/10\n",
    "    k = np.array([[k]])\n",
    "    poly = PolynomialFeatures(degree=minj)\n",
    "    poly_k = poly.fit_transform(k)    \n",
    "    y_k  = regressors[minj].predict(poly_k)    \n",
    "    dist = s1/(y_k - (p + s2))**2\n",
    "    return dist"
   ]
  },
  {
   "cell_type": "code",
   "execution_count": 12,
   "metadata": {},
   "outputs": [],
   "source": [
    "v = np.array([predict(i)[0][0] for i in r1])"
   ]
  },
  {
   "cell_type": "markdown",
   "metadata": {},
   "source": [
    "# Analyse Results"
   ]
  },
  {
   "cell_type": "code",
   "execution_count": 14,
   "metadata": {},
   "outputs": [
    {
     "name": "stdout",
     "output_type": "stream",
     "text": [
      "Red dots represent True Values and Yellow Dots represent predicted Value\n",
      "Accuracy =  82.07113564447108\n",
      "Wall time: 21.9 ms\n"
     ]
    },
    {
     "data": {
      "image/png": "[encoded data removed]",
      "text/plain": [
       "<Figure size 432x288 with 1 Axes>"
      ]
     },
     "metadata": {
      "needs_background": "light"
     },
     "output_type": "display_data"
    }
   ],
   "source": [
    "%%time\n",
    "plt.scatter(r1,v,c='y')\n",
    "plt.scatter(r1,d1,c='r')\n",
    "print(\"Red dots represent True Values and Yellow Dots represent predicted Value\")\n",
    "print(\"Accuracy = \", 100*(1-np.mean(d1-v)/np.mean(d1)))\n",
    "plt.xlabel('RSSI Values (IEEE 802.11) : Signal Strength')\n",
    "plt.ylabel('Distance (ft)')\n",
    "plt.title('Distance Vs RSSI Values')"
   ]
  },
  {
   "cell_type": "code",
   "execution_count": null,
   "metadata": {},
   "outputs": [],
   "source": []
  },
  {
   "cell_type": "code",
   "execution_count": null,
   "metadata": {},
   "outputs": [],
   "source": []
  }
 ],
 "metadata": {
  "kernelspec": {
   "display_name": "Python 3",
   "language": "python",
   "name": "python3"
  },
  "language_info": {
   "codemirror_mode": {
    "name": "ipython",
    "version": 3
   },
   "file_extension": ".py",
   "mimetype": "text/x-python",
   "name": "python",
   "nbconvert_exporter": "python",
   "pygments_lexer": "ipython3",
   "version": "3.7.0"
  }
 },
 "nbformat": 4,
 "nbformat_minor": 2
}
